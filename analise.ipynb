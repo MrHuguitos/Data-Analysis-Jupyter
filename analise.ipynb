{
 "cells": [
  {
   "cell_type": "markdown",
   "metadata": {},
   "source": [
    "# Bibliotecas"
   ]
  },
  {
   "cell_type": "code",
   "execution_count": 1,
   "metadata": {},
   "outputs": [
    {
     "name": "stdout",
     "output_type": "stream",
     "text": [
      "Config Complete\n"
     ]
    }
   ],
   "source": [
    "import pygwalker as pyg\n",
    "import plotly.express as px\n",
    "import pandas as pd\n",
    "print(\"Config Complete\")"
   ]
  },
  {
   "cell_type": "markdown",
   "metadata": {},
   "source": [
    "# Importação da base de dados"
   ]
  },
  {
   "cell_type": "code",
   "execution_count": 2,
   "metadata": {},
   "outputs": [],
   "source": [
    "dados_caminho = \"cartao.csv\"\n",
    "dados_import = pd.read_csv(dados_caminho, encoding = 'utf-8', sep = \",\")"
   ]
  },
  {
   "cell_type": "markdown",
   "metadata": {},
   "source": [
    "# Exibição de gráficos"
   ]
  },
  {
   "cell_type": "code",
   "execution_count": null,
   "metadata": {},
   "outputs": [],
   "source": [
    "# Gastos da presidência da república entre 2013 e 2023\n",
    "\n",
    "result_df = pd.DataFrame(columns=['ANO', 'VALOR', 'INFORMAÇÕES'])\n",
    "situacoes = [-1, -2, -11]\n",
    "\n",
    "for ano in range(2013, 2024):\n",
    "    total = 0\n",
    "    filtered_data = dados_import[(dados_import['ANO EXTRATO'].astype(int) == ano)]\n",
    "    filtered_data1 = filtered_data.loc[filtered_data['CÓDIGO ÓRGÃO SUPERIOR'] == 20000]\n",
    "    filtered_data1['VALOR TRANSAÇÃO'] = filtered_data1['VALOR TRANSAÇÃO'].astype(str).str.replace(',', '.').astype(float)\n",
    "\n",
    "    for situacao in situacoes:\n",
    "        filtered_case = filtered_data1.loc[filtered_data1['CNPJ OU CPF FAVORECIDO'] == situacao]\n",
    "        nome_situacao = dados_import.loc[dados_import['CNPJ OU CPF FAVORECIDO'] == situacao, 'NOME FAVORECIDO'].iloc[0]\n",
    "        soma_valores_caso = filtered_case['VALOR TRANSAÇÃO'].sum() # Somar os valores da coluna 'VALOR TRANSAÇÃO' para os casos filtrados\n",
    "        total += soma_valores_caso\n",
    "        \n",
    "        temp_df = pd.DataFrame([{'ANO': ano, 'VALOR': soma_valores_caso, 'INFORMAÇÕES': nome_situacao}])\n",
    "        result_df = pd.concat([result_df, temp_df], ignore_index=True)\n",
    "        \n",
    "    soma_valores_total = (filtered_data1['VALOR TRANSAÇÃO'].sum()) - total\n",
    "    outras_situacoes = pd.DataFrame([{'ANO': ano, 'VALOR': soma_valores_total, 'INFORMAÇÕES': 'Informações Visivéis'}])\n",
    "    result_df = pd.concat([result_df, outras_situacoes], ignore_index=True)\n",
    "\n",
    "vis_spec = r\"\"\"{\"config\":[{\"config\":{\"defaultAggregated\":true,\"geoms\":[\"auto\"],\"coordSystem\":\"generic\",\"limit\":-1,\"timezoneDisplayOffset\":0},\"encodings\":{\"dimensions\":[{\"fid\":\"ANO\",\"name\":\"ANO\",\"basename\":\"ANO\",\"semanticType\":\"nominal\",\"analyticType\":\"dimension\",\"offset\":0},{\"fid\":\"INFORMAÇÕES\",\"name\":\"INFORMAÇÕES\",\"basename\":\"INFORMAÇÕES\",\"semanticType\":\"nominal\",\"analyticType\":\"dimension\",\"offset\":0},{\"fid\":\"gw_mea_key_fid\",\"name\":\"Measure names\",\"analyticType\":\"dimension\",\"semanticType\":\"nominal\"}],\"measures\":[{\"fid\":\"VALOR\",\"name\":\"VALOR\",\"basename\":\"VALOR\",\"analyticType\":\"measure\",\"semanticType\":\"quantitative\",\"aggName\":\"sum\",\"offset\":0},{\"fid\":\"gw_count_fid\",\"name\":\"Row count\",\"analyticType\":\"measure\",\"semanticType\":\"quantitative\",\"aggName\":\"sum\",\"computed\":true,\"expression\":{\"op\":\"one\",\"params\":[],\"as\":\"gw_count_fid\"}},{\"fid\":\"gw_mea_val_fid\",\"name\":\"Measure values\",\"analyticType\":\"measure\",\"semanticType\":\"quantitative\",\"aggName\":\"sum\"}],\"rows\":[{\"fid\":\"VALOR\",\"name\":\"VALOR\",\"basename\":\"VALOR\",\"analyticType\":\"measure\",\"semanticType\":\"quantitative\",\"aggName\":\"sum\",\"offset\":0}],\"columns\":[{\"fid\":\"ANO\",\"name\":\"ANO\",\"basename\":\"ANO\",\"semanticType\":\"nominal\",\"analyticType\":\"dimension\",\"offset\":0}],\"color\":[{\"fid\":\"INFORMAÇÕES\",\"name\":\"INFORMAÇÕES\",\"basename\":\"INFORMAÇÕES\",\"semanticType\":\"nominal\",\"analyticType\":\"dimension\",\"offset\":0}],\"opacity\":[],\"size\":[],\"shape\":[],\"radius\":[],\"theta\":[],\"longitude\":[],\"latitude\":[],\"geoId\":[],\"details\":[],\"filters\":[],\"text\":[]},\"layout\":{\"showActions\":false,\"showTableSummary\":false,\"stack\":\"stack\",\"interactiveScale\":false,\"zeroScale\":true,\"size\":{\"mode\":\"fixed\",\"height\":449,\"width\":624},\"format\":{},\"geoKey\":\"name\",\"resolve\":{\"x\":false,\"y\":false,\"color\":false,\"opacity\":false,\"shape\":false,\"size\":false}},\"visId\":\"gw_nK3k\",\"name\":\"Chart 1\"}],\"chart_map\":{},\"workflow_list\":[{\"workflow\":[{\"type\":\"view\",\"query\":[{\"op\":\"aggregate\",\"groupBy\":[\"ANO\",\"INFORMAÇÕES\"],\"measures\":[{\"field\":\"VALOR\",\"agg\":\"sum\",\"asFieldKey\":\"VALOR_sum\"}]}]}]}],\"version\":\"0.4.9.1\"}\"\"\"\n",
    "pyg.walk(result_df, spec=vis_spec)"
   ]
  },
  {
   "cell_type": "code",
   "execution_count": null,
   "metadata": {},
   "outputs": [],
   "source": [
    "# Gastos dos órgãos superiores entre 2013 e 2023\n",
    "\n",
    "result = pd.DataFrame(columns=['ANO', 'VALOR', 'ÓRGÃO'])\n",
    "orgaos = [63000, 25201, 37000, 25000, 36000, 30000, 44000, 26000, 35000, 20000]\n",
    "\n",
    "for ano in range(2013, 2024):\n",
    "    total = 0\n",
    "    filtro = dados_import[(dados_import['ANO EXTRATO'].astype(int) == ano)] # Transformar o ano em inteiro\n",
    "    filtro['VALOR TRANSAÇÃO'] = filtro['VALOR TRANSAÇÃO'].astype(str).str.replace(',', '.').astype(float) # Transformar o valor em float\n",
    "\n",
    "    for orgao in orgaos:\n",
    "        orgao_filtro = filtro.loc[filtro['CÓDIGO ÓRGÃO SUPERIOR'] == orgao] # Filtro para obter somente os órgãos que queremos\n",
    "        nome_orgao = dados_import.loc[dados_import['CÓDIGO ÓRGÃO SUPERIOR'] == orgao, 'NOME ÓRGÃO SUPERIOR'].iloc[0]\n",
    "        soma = orgao_filtro['VALOR TRANSAÇÃO'].sum() # Somar os valores da coluna 'VALOR TRANSAÇÃO' para os casos filtrados\n",
    "        total += soma # Adicionar o valor gasto por todos os ministérios no determinado ano\n",
    "\n",
    "        temp_df = pd.DataFrame([{'ANO': ano, 'VALOR': soma, 'ÓRGÃO': nome_orgao}])\n",
    "        result = pd.concat([result, temp_df], ignore_index=True)\n",
    "\n",
    "    valor_restante = (filtro['VALOR TRANSAÇÃO'].sum()) - total\n",
    "    outros_orgaos = pd.DataFrame([{'ANO': ano, 'VALOR': valor_restante, 'ÓRGÃO': 'Outros Ministérios'}])\n",
    "    result = pd.concat([result, outros_orgaos], ignore_index=True)\n",
    "\n",
    "vis_spec = r\"\"\"{\"config\":[{\"config\":{\"defaultAggregated\":true,\"geoms\":[\"auto\"],\"coordSystem\":\"generic\",\"limit\":-1,\"timezoneDisplayOffset\":0},\"encodings\":{\"dimensions\":[{\"fid\":\"ANO\",\"name\":\"ANO\",\"basename\":\"ANO\",\"semanticType\":\"nominal\",\"analyticType\":\"dimension\",\"offset\":0},{\"fid\":\"ÓRGÃO\",\"name\":\"ÓRGÃO\",\"basename\":\"ÓRGÃO\",\"semanticType\":\"nominal\",\"analyticType\":\"dimension\",\"offset\":0},{\"fid\":\"gw_mea_key_fid\",\"name\":\"Measure names\",\"analyticType\":\"dimension\",\"semanticType\":\"nominal\"}],\"measures\":[{\"fid\":\"VALOR\",\"name\":\"VALOR\",\"basename\":\"VALOR\",\"analyticType\":\"measure\",\"semanticType\":\"quantitative\",\"aggName\":\"sum\",\"offset\":0},{\"fid\":\"gw_count_fid\",\"name\":\"Row count\",\"analyticType\":\"measure\",\"semanticType\":\"quantitative\",\"aggName\":\"sum\",\"computed\":true,\"expression\":{\"op\":\"one\",\"params\":[],\"as\":\"gw_count_fid\"}},{\"fid\":\"gw_mea_val_fid\",\"name\":\"Measure values\",\"analyticType\":\"measure\",\"semanticType\":\"quantitative\",\"aggName\":\"sum\"}],\"rows\":[{\"fid\":\"VALOR\",\"name\":\"VALOR\",\"basename\":\"VALOR\",\"analyticType\":\"measure\",\"semanticType\":\"quantitative\",\"aggName\":\"sum\",\"offset\":0}],\"columns\":[{\"fid\":\"ANO\",\"name\":\"ANO\",\"basename\":\"ANO\",\"semanticType\":\"nominal\",\"analyticType\":\"dimension\",\"offset\":0}],\"color\":[{\"fid\":\"ÓRGÃO\",\"name\":\"ÓRGÃO\",\"basename\":\"ÓRGÃO\",\"semanticType\":\"nominal\",\"analyticType\":\"dimension\",\"offset\":0}],\"opacity\":[],\"size\":[],\"shape\":[],\"radius\":[],\"theta\":[],\"longitude\":[],\"latitude\":[],\"geoId\":[],\"details\":[],\"filters\":[],\"text\":[]},\"layout\":{\"showActions\":false,\"showTableSummary\":false,\"stack\":\"stack\",\"interactiveScale\":false,\"zeroScale\":true,\"size\":{\"mode\":\"fixed\",\"height\":436,\"width\":640},\"format\":{},\"geoKey\":\"name\",\"resolve\":{\"x\":false,\"y\":false,\"color\":false,\"opacity\":false,\"shape\":false,\"size\":false}},\"visId\":\"gw_sZml\",\"name\":\"Chart 1\"}],\"chart_map\":{},\"workflow_list\":[{\"workflow\":[{\"type\":\"view\",\"query\":[{\"op\":\"aggregate\",\"groupBy\":[\"ANO\",\"ÓRGÃO\"],\"measures\":[{\"field\":\"VALOR\",\"agg\":\"sum\",\"asFieldKey\":\"VALOR_sum\"}]}]}]}],\"version\":\"0.4.9.1\"}\"\"\"\n",
    "pyg.walk(result, spec=vis_spec)"
   ]
  },
  {
   "cell_type": "code",
   "execution_count": null,
   "metadata": {},
   "outputs": [],
   "source": [
    "# Gastos dos órgãos superiores e seu tipo entre 2013 e 2023\n",
    "\n",
    "result_df = pd.DataFrame(columns=['ANO', 'VALOR', 'INFORMAÇÕES'])\n",
    "situacoes = [-1, -2, -11]\n",
    "\n",
    "for ano in range(2013, 2024):\n",
    "    total = 0\n",
    "    filtered_data = dados_import[(dados_import['ANO EXTRATO'].astype(int) == ano)]\n",
    "    filtered_data['VALOR TRANSAÇÃO'] = filtered_data['VALOR TRANSAÇÃO'].astype(str).str.replace(',', '.').astype(float)\n",
    "\n",
    "    for situacao in situacoes:\n",
    "        filtered_case = filtered_data.loc[filtered_data['CNPJ OU CPF FAVORECIDO'] == situacao]\n",
    "        nome_situacao = dados_import.loc[dados_import['CNPJ OU CPF FAVORECIDO'] == situacao, 'NOME FAVORECIDO'].iloc[0]\n",
    "        soma_valores_caso = filtered_case['VALOR TRANSAÇÃO'].sum() # Somar os valores da coluna 'VALOR TRANSAÇÃO' para os casos filtrados\n",
    "        total += soma_valores_caso\n",
    "\n",
    "        temp_df = pd.DataFrame([{'ANO': ano, 'VALOR': soma_valores_caso, 'INFORMAÇÕES': nome_situacao}])\n",
    "        result_df = pd.concat([result_df, temp_df], ignore_index=True)\n",
    "        \n",
    "    soma_valores_total = (filtered_data['VALOR TRANSAÇÃO'].sum()) - total\n",
    "    outras_situacoes = pd.DataFrame([{'ANO': ano, 'VALOR': soma_valores_total, 'INFORMAÇÕES': 'Informações Visivéis'}])\n",
    "    result_df = pd.concat([result_df, outras_situacoes], ignore_index=True)\n",
    "\n",
    "vis_spec = r\"\"\"{\"config\":[{\"config\":{\"defaultAggregated\":true,\"geoms\":[\"auto\"],\"coordSystem\":\"generic\",\"limit\":-1,\"timezoneDisplayOffset\":0},\"encodings\":{\"dimensions\":[{\"fid\":\"ANO\",\"name\":\"ANO\",\"basename\":\"ANO\",\"semanticType\":\"nominal\",\"analyticType\":\"dimension\",\"offset\":0},{\"fid\":\"INFORMAÇÕES\",\"name\":\"INFORMAÇÕES\",\"basename\":\"INFORMAÇÕES\",\"semanticType\":\"nominal\",\"analyticType\":\"dimension\",\"offset\":0},{\"fid\":\"gw_mea_key_fid\",\"name\":\"Measure names\",\"analyticType\":\"dimension\",\"semanticType\":\"nominal\"}],\"measures\":[{\"fid\":\"VALOR\",\"name\":\"VALOR\",\"basename\":\"VALOR\",\"analyticType\":\"measure\",\"semanticType\":\"quantitative\",\"aggName\":\"sum\",\"offset\":0},{\"fid\":\"gw_count_fid\",\"name\":\"Row count\",\"analyticType\":\"measure\",\"semanticType\":\"quantitative\",\"aggName\":\"sum\",\"computed\":true,\"expression\":{\"op\":\"one\",\"params\":[],\"as\":\"gw_count_fid\"}},{\"fid\":\"gw_mea_val_fid\",\"name\":\"Measure values\",\"analyticType\":\"measure\",\"semanticType\":\"quantitative\",\"aggName\":\"sum\"}],\"rows\":[{\"fid\":\"VALOR\",\"name\":\"VALOR\",\"basename\":\"VALOR\",\"analyticType\":\"measure\",\"semanticType\":\"quantitative\",\"aggName\":\"sum\",\"offset\":0}],\"columns\":[{\"fid\":\"ANO\",\"name\":\"ANO\",\"basename\":\"ANO\",\"semanticType\":\"nominal\",\"analyticType\":\"dimension\",\"offset\":0}],\"color\":[{\"fid\":\"INFORMAÇÕES\",\"name\":\"INFORMAÇÕES\",\"basename\":\"INFORMAÇÕES\",\"semanticType\":\"nominal\",\"analyticType\":\"dimension\",\"offset\":0}],\"opacity\":[],\"size\":[],\"shape\":[],\"radius\":[],\"theta\":[],\"longitude\":[],\"latitude\":[],\"geoId\":[],\"details\":[],\"filters\":[],\"text\":[]},\"layout\":{\"showActions\":false,\"showTableSummary\":false,\"stack\":\"stack\",\"interactiveScale\":false,\"zeroScale\":true,\"size\":{\"mode\":\"fixed\",\"height\":410,\"width\":624},\"format\":{},\"geoKey\":\"name\",\"resolve\":{\"x\":false,\"y\":false,\"color\":false,\"opacity\":false,\"shape\":false,\"size\":false}},\"visId\":\"gw_eYK-\",\"name\":\"Chart 1\"}],\"chart_map\":{},\"workflow_list\":[{\"workflow\":[{\"type\":\"view\",\"query\":[{\"op\":\"aggregate\",\"groupBy\":[\"ANO\",\"INFORMAÇÕES\"],\"measures\":[{\"field\":\"VALOR\",\"agg\":\"sum\",\"asFieldKey\":\"VALOR_sum\"}]}]}]}],\"version\":\"0.4.9.1\"}\"\"\"\n",
    "pyg.walk(result_df, spec=vis_spec)"
   ]
  },
  {
   "cell_type": "code",
   "execution_count": null,
   "metadata": {},
   "outputs": [],
   "source": [
    "# Gastos dos órgãos superiores e seu tipo entre 2013 e 2023 - gráfico de setores\n",
    "\n",
    "result_df = pd.DataFrame(columns=['ANO', 'VALOR', 'INFORMAÇÕES'])\n",
    "situacoes = [-1, -2, -11]\n",
    "\n",
    "for ano in range(2013, 2024):\n",
    "    total = 0\n",
    "    filtered_data = dados_import[(dados_import['ANO EXTRATO'].astype(int) == ano)]\n",
    "    filtered_data['VALOR TRANSAÇÃO'] = filtered_data['VALOR TRANSAÇÃO'].astype(str).str.replace(',', '.').astype(float)\n",
    "\n",
    "    for situacao in situacoes:\n",
    "        filtered_case = filtered_data.loc[filtered_data['CNPJ OU CPF FAVORECIDO'] == situacao]\n",
    "        nome_situacao = dados_import.loc[dados_import['CNPJ OU CPF FAVORECIDO'] == situacao, 'NOME FAVORECIDO'].iloc[0]\n",
    "        soma_valores_caso = filtered_case['VALOR TRANSAÇÃO'].sum() # Somar os valores da coluna 'VALOR TRANSAÇÃO' para os casos filtrados\n",
    "        total += soma_valores_caso\n",
    "\n",
    "        temp_df = pd.DataFrame([{'ANO': ano, 'VALOR': soma_valores_caso, 'INFORMAÇÕES': nome_situacao}])\n",
    "        result_df = pd.concat([result_df, temp_df], ignore_index=True)\n",
    "        \n",
    "    soma_valores_total = (filtered_data['VALOR TRANSAÇÃO'].sum()) - total\n",
    "    outras_situacoes = pd.DataFrame([{'ANO': ano, 'VALOR': soma_valores_total, 'INFORMAÇÕES': 'Informações Visivéis'}])\n",
    "    result_df = pd.concat([result_df, outras_situacoes], ignore_index=True)\n",
    "\n",
    "vis_spec = r\"\"\"{\"config\":[{\"config\":{\"defaultAggregated\":true,\"geoms\":[\"arc\"],\"coordSystem\":\"generic\",\"limit\":-1,\"timezoneDisplayOffset\":0},\"encodings\":{\"dimensions\":[{\"fid\":\"ANO\",\"name\":\"ANO\",\"basename\":\"ANO\",\"semanticType\":\"nominal\",\"analyticType\":\"dimension\",\"offset\":0},{\"fid\":\"INFORMAÇÕES\",\"name\":\"INFORMAÇÕES\",\"basename\":\"INFORMAÇÕES\",\"semanticType\":\"nominal\",\"analyticType\":\"dimension\",\"offset\":0},{\"fid\":\"gw_mea_key_fid\",\"name\":\"Measure names\",\"analyticType\":\"dimension\",\"semanticType\":\"nominal\"}],\"measures\":[{\"fid\":\"VALOR\",\"name\":\"VALOR\",\"basename\":\"VALOR\",\"analyticType\":\"measure\",\"semanticType\":\"quantitative\",\"aggName\":\"sum\",\"offset\":0},{\"fid\":\"gw_count_fid\",\"name\":\"Row count\",\"analyticType\":\"measure\",\"semanticType\":\"quantitative\",\"aggName\":\"sum\",\"computed\":true,\"expression\":{\"op\":\"one\",\"params\":[],\"as\":\"gw_count_fid\"}},{\"fid\":\"gw_mea_val_fid\",\"name\":\"Measure values\",\"analyticType\":\"measure\",\"semanticType\":\"quantitative\",\"aggName\":\"sum\"}],\"rows\":[{\"fid\":\"INFORMAÇÕES\",\"name\":\"INFORMAÇÕES\",\"basename\":\"INFORMAÇÕES\",\"semanticType\":\"nominal\",\"analyticType\":\"dimension\",\"offset\":0}],\"columns\":[{\"fid\":\"VALOR\",\"name\":\"VALOR\",\"basename\":\"VALOR\",\"analyticType\":\"measure\",\"semanticType\":\"quantitative\",\"aggName\":\"sum\",\"offset\":0}],\"color\":[{\"fid\":\"INFORMAÇÕES\",\"name\":\"INFORMAÇÕES\",\"basename\":\"INFORMAÇÕES\",\"semanticType\":\"nominal\",\"analyticType\":\"dimension\",\"offset\":0}],\"opacity\":[],\"size\":[],\"shape\":[],\"radius\":[],\"theta\":[{\"fid\":\"VALOR\",\"name\":\"VALOR\",\"basename\":\"VALOR\",\"analyticType\":\"measure\",\"semanticType\":\"quantitative\",\"aggName\":\"sum\",\"offset\":0}],\"longitude\":[],\"latitude\":[],\"geoId\":[],\"details\":[],\"filters\":[],\"text\":[]},\"layout\":{\"showActions\":false,\"showTableSummary\":false,\"stack\":\"stack\",\"interactiveScale\":false,\"zeroScale\":true,\"size\":{\"mode\":\"fixed\",\"height\":372,\"width\":640},\"format\":{},\"geoKey\":\"name\",\"resolve\":{\"x\":false,\"y\":false,\"color\":false,\"opacity\":false,\"shape\":false,\"size\":false}},\"visId\":\"gw_bIHg\",\"name\":\"Chart 1\"}],\"chart_map\":{},\"workflow_list\":[{\"workflow\":[{\"type\":\"view\",\"query\":[{\"op\":\"aggregate\",\"groupBy\":[\"INFORMAÇÕES\"],\"measures\":[{\"field\":\"VALOR\",\"agg\":\"sum\",\"asFieldKey\":\"VALOR_sum\"}]}]}]}],\"version\":\"0.4.9.1\"}\"\"\"\n",
    "pyg.walk(result_df, spec=vis_spec)"
   ]
  },
  {
   "cell_type": "code",
   "execution_count": null,
   "metadata": {},
   "outputs": [],
   "source": [
    "# Gastos dos órgãos superiores e seu tipo entre 2013 e 2023 - gráfico de linhas\n",
    "\n",
    "result_df = pd.DataFrame(columns=['ANO', 'VALOR', 'INFORMAÇÕES'])\n",
    "situacoes = [-1, -2, -11]\n",
    "\n",
    "for ano in range(2013, 2024):\n",
    "    total = 0\n",
    "    filtered_data = dados_import[(dados_import['ANO EXTRATO'].astype(int) == ano)]\n",
    "    filtered_data['VALOR TRANSAÇÃO'] = filtered_data['VALOR TRANSAÇÃO'].astype(str).str.replace(',', '.').astype(float)\n",
    "\n",
    "    for situacao in situacoes:\n",
    "        filtered_case = filtered_data.loc[filtered_data['CNPJ OU CPF FAVORECIDO'] == situacao]\n",
    "        nome_situacao = dados_import.loc[dados_import['CNPJ OU CPF FAVORECIDO'] == situacao, 'NOME FAVORECIDO'].iloc[0]\n",
    "        soma_valores_caso = filtered_case['VALOR TRANSAÇÃO'].sum() # Somar os valores da coluna 'VALOR TRANSAÇÃO' para os casos filtrados\n",
    "        total += soma_valores_caso\n",
    "\n",
    "        temp_df = pd.DataFrame([{'ANO': ano, 'VALOR': soma_valores_caso, 'INFORMAÇÕES': nome_situacao}])\n",
    "        result_df = pd.concat([result_df, temp_df], ignore_index=True)\n",
    "        \n",
    "    soma_valores_total = (filtered_data['VALOR TRANSAÇÃO'].sum()) - total\n",
    "    outras_situacoes = pd.DataFrame([{'ANO': ano, 'VALOR': soma_valores_total, 'INFORMAÇÕES': 'Informações Visivéis'}])\n",
    "    result_df = pd.concat([result_df, outras_situacoes], ignore_index=True)\n",
    "\n",
    "vis_spec = r\"\"\"{\"config\":[{\"config\":{\"defaultAggregated\":true,\"geoms\":[\"line\"],\"coordSystem\":\"generic\",\"limit\":-1,\"timezoneDisplayOffset\":0},\"encodings\":{\"dimensions\":[{\"fid\":\"ANO\",\"name\":\"ANO\",\"basename\":\"ANO\",\"semanticType\":\"nominal\",\"analyticType\":\"dimension\",\"offset\":0},{\"fid\":\"INFORMAÇÕES\",\"name\":\"INFORMAÇÕES\",\"basename\":\"INFORMAÇÕES\",\"semanticType\":\"nominal\",\"analyticType\":\"dimension\",\"offset\":0},{\"fid\":\"gw_mea_key_fid\",\"name\":\"Measure names\",\"analyticType\":\"dimension\",\"semanticType\":\"nominal\"}],\"measures\":[{\"fid\":\"VALOR\",\"name\":\"VALOR\",\"basename\":\"VALOR\",\"analyticType\":\"measure\",\"semanticType\":\"quantitative\",\"aggName\":\"sum\",\"offset\":0},{\"fid\":\"gw_count_fid\",\"name\":\"Row count\",\"analyticType\":\"measure\",\"semanticType\":\"quantitative\",\"aggName\":\"sum\",\"computed\":true,\"expression\":{\"op\":\"one\",\"params\":[],\"as\":\"gw_count_fid\"}},{\"fid\":\"gw_mea_val_fid\",\"name\":\"Measure values\",\"analyticType\":\"measure\",\"semanticType\":\"quantitative\",\"aggName\":\"sum\"}],\"rows\":[{\"fid\":\"VALOR\",\"name\":\"VALOR\",\"basename\":\"VALOR\",\"analyticType\":\"measure\",\"semanticType\":\"quantitative\",\"aggName\":\"sum\",\"offset\":0}],\"columns\":[{\"fid\":\"ANO\",\"name\":\"ANO\",\"basename\":\"ANO\",\"semanticType\":\"nominal\",\"analyticType\":\"dimension\",\"offset\":0}],\"color\":[{\"fid\":\"INFORMAÇÕES\",\"name\":\"INFORMAÇÕES\",\"basename\":\"INFORMAÇÕES\",\"semanticType\":\"nominal\",\"analyticType\":\"dimension\",\"offset\":0}],\"opacity\":[],\"size\":[],\"shape\":[],\"radius\":[],\"theta\":[],\"longitude\":[],\"latitude\":[],\"geoId\":[],\"details\":[],\"filters\":[],\"text\":[]},\"layout\":{\"showActions\":false,\"showTableSummary\":false,\"stack\":\"stack\",\"interactiveScale\":false,\"zeroScale\":true,\"size\":{\"mode\":\"fixed\",\"height\":436,\"width\":624},\"format\":{},\"geoKey\":\"name\",\"resolve\":{\"x\":false,\"y\":false,\"color\":false,\"opacity\":false,\"shape\":false,\"size\":false}},\"visId\":\"gw_JC1Y\",\"name\":\"Chart 1\"}],\"chart_map\":{},\"workflow_list\":[{\"workflow\":[{\"type\":\"view\",\"query\":[{\"op\":\"aggregate\",\"groupBy\":[\"ANO\",\"INFORMAÇÕES\"],\"measures\":[{\"field\":\"VALOR\",\"agg\":\"sum\",\"asFieldKey\":\"VALOR_sum\"}]}]}]}],\"version\":\"0.4.9.1\"}\"\"\"\n",
    "pyg.walk(result_df, spec=vis_spec)"
   ]
  }
 ],
 "metadata": {
  "kernelspec": {
   "display_name": "Python 3",
   "language": "python",
   "name": "python3"
  },
  "language_info": {
   "codemirror_mode": {
    "name": "ipython",
    "version": 3
   },
   "file_extension": ".py",
   "mimetype": "text/x-python",
   "name": "python",
   "nbconvert_exporter": "python",
   "pygments_lexer": "ipython3",
   "version": "3.12.3"
  }
 },
 "nbformat": 4,
 "nbformat_minor": 2
}
